{
 "cells": [
  {
   "cell_type": "code",
   "execution_count": 17,
   "metadata": {},
   "outputs": [],
   "source": [
    "# load the flights dataset\n",
    "import pandas as pd\n",
    "import numpy as np\n"
   ]
  },
  {
   "cell_type": "code",
   "execution_count": null,
   "metadata": {},
   "outputs": [
    {
     "name": "stdout",
     "output_type": "stream",
     "text": [
      "      FL_DATE OP_CARRIER ORIGIN DEST  CRS_DEP_TIME  DEP_TIME  CRS_ARR_TIME  \\\n",
      "0  2019-01-01         9E    MSP  MKE          1122    1155.0          1251   \n",
      "1  2019-01-01         9E    ATL  PHF           954    1002.0          1137   \n",
      "2  2019-01-01         9E    PHF  ATL          1213    1207.0          1410   \n",
      "3  2019-01-01         9E    MSP  CLE          1005    1015.0          1302   \n",
      "4  2019-01-01         9E    MSP  RDU          1540    1535.0          1921   \n",
      "\n",
      "   ARR_TIME  CANCELLED CANCELLATION_CODE  DIVERTED  CARRIER_DELAY  \\\n",
      "0    1259.0        0.0               NaN       0.0            NaN   \n",
      "1    1132.0        0.0               NaN       0.0            NaN   \n",
      "2    1408.0        0.0               NaN       0.0            NaN   \n",
      "3    1257.0        0.0               NaN       0.0            NaN   \n",
      "4    1854.0        0.0               NaN       0.0            NaN   \n",
      "\n",
      "   WEATHER_DELAY  NAS_DELAY  SECURITY_DELAY  LATE_AIRCRAFT_DELAY  Unnamed: 16  \n",
      "0            NaN        NaN             NaN                  NaN          NaN  \n",
      "1            NaN        NaN             NaN                  NaN          NaN  \n",
      "2            NaN        NaN             NaN                  NaN          NaN  \n",
      "3            NaN        NaN             NaN                  NaN          NaN  \n",
      "4            NaN        NaN             NaN                  NaN          NaN  \n"
     ]
    }
   ],
   "source": [
    "flights_db = pd.read_csv('original_flights_dataset.csv')\n",
    "print(flights_db.head())\n",
    "# Keep only flights where fl_date is exactly 2019-01-01\n",
    "# flights_db = flights_db[flights_db['FL_DATE'] == '2019-01-01']\n"
   ]
  },
  {
   "cell_type": "code",
   "execution_count": 19,
   "metadata": {},
   "outputs": [],
   "source": [
    "airlines = flights_db['OP_CARRIER'].drop_duplicates()\n",
    "airlines.to_csv('airlines.csv', index=False)"
   ]
  },
  {
   "cell_type": "code",
   "execution_count": 20,
   "metadata": {},
   "outputs": [
    {
     "name": "stdout",
     "output_type": "stream",
     "text": [
      "          FL_DATE OP_CARRIER ORIGIN DEST  CRS_DEP_TIME  DEP_TIME  \\\n",
      "0      2019-01-01         9E    MSP  MKE          1122    1155.0   \n",
      "1      2019-01-01         9E    ATL  PHF           954    1002.0   \n",
      "2      2019-01-01         9E    PHF  ATL          1213    1207.0   \n",
      "3      2019-01-01         9E    MSP  CLE          1005    1015.0   \n",
      "4      2019-01-01         9E    MSP  RDU          1540    1535.0   \n",
      "...           ...        ...    ...  ...           ...       ...   \n",
      "18004  2019-01-01         HA    LIH  HNL          2302    2259.0   \n",
      "18005  2019-01-01         HA    OGG  HNL          2308    2306.0   \n",
      "18006  2019-01-01         HA    HNL  OGG          2200    2159.0   \n",
      "18007  2019-01-01         HA    SFO  HNL          1045    1046.0   \n",
      "18008  2019-01-01         HA    HNL  SFO          2230    2223.0   \n",
      "\n",
      "       CRS_ARR_TIME  ARR_TIME  CANCELLED CANCELLATION_CODE  DIVERTED  \\\n",
      "0              1251    1259.0        0.0               NaN       0.0   \n",
      "1              1137    1132.0        0.0               NaN       0.0   \n",
      "2              1410    1408.0        0.0               NaN       0.0   \n",
      "3              1302    1257.0        0.0               NaN       0.0   \n",
      "4              1921    1854.0        0.0               NaN       0.0   \n",
      "...             ...       ...        ...               ...       ...   \n",
      "18004          2340    2341.0        0.0               NaN       0.0   \n",
      "18005          2344    2345.0        0.0               NaN       0.0   \n",
      "18006          2240    2234.0        0.0               NaN       0.0   \n",
      "18007          1440    1401.0        0.0               NaN       0.0   \n",
      "18008           535     601.0        0.0               NaN       0.0   \n",
      "\n",
      "       CARRIER_DELAY  WEATHER_DELAY  NAS_DELAY  SECURITY_DELAY  \\\n",
      "0                NaN            NaN        NaN             NaN   \n",
      "1                NaN            NaN        NaN             NaN   \n",
      "2                NaN            NaN        NaN             NaN   \n",
      "3                NaN            NaN        NaN             NaN   \n",
      "4                NaN            NaN        NaN             NaN   \n",
      "...              ...            ...        ...             ...   \n",
      "18004            NaN            NaN        NaN             NaN   \n",
      "18005            NaN            NaN        NaN             NaN   \n",
      "18006            NaN            NaN        NaN             NaN   \n",
      "18007            NaN            NaN        NaN             NaN   \n",
      "18008           26.0            0.0        0.0             0.0   \n",
      "\n",
      "       LATE_AIRCRAFT_DELAY  Unnamed: 16  \n",
      "0                      NaN          NaN  \n",
      "1                      NaN          NaN  \n",
      "2                      NaN          NaN  \n",
      "3                      NaN          NaN  \n",
      "4                      NaN          NaN  \n",
      "...                    ...          ...  \n",
      "18004                  NaN          NaN  \n",
      "18005                  NaN          NaN  \n",
      "18006                  NaN          NaN  \n",
      "18007                  NaN          NaN  \n",
      "18008                  0.0          NaN  \n",
      "\n",
      "[18009 rows x 17 columns]\n"
     ]
    }
   ],
   "source": [
    "# Add a random cost to each flight between 1 and 100 for each flight\n",
    "print(flights_db)\n",
    "flights_db['COST'] = [np.random.randint(1, 2) for _ in flights_db.index]\n",
    "# For each airline, randomly select 2 flights to be popular\n",
    "flights_db['IS_POPULAR'] = 0\n",
    "airlines = flights_db['OP_CARRIER'].drop_duplicates()\n",
    "for airline in airlines:\n",
    "    airline_flights = flights_db[flights_db['OP_CARRIER'] == airline]\n",
    "    popular_flights = airline_flights.sample(2)\n",
    "    flights_db.loc[popular_flights.index, 'IS_POPULAR'] = 1\n",
    "flights = flights_db[['OP_CARRIER', 'ORIGIN', 'DEST', 'COST','IS_POPULAR']].drop_duplicates()\n",
    "flights.to_csv('flights.csv', index=False)"
   ]
  },
  {
   "cell_type": "code",
   "execution_count": 21,
   "metadata": {},
   "outputs": [
    {
     "name": "stdout",
     "output_type": "stream",
     "text": [
      "         A  COST\n",
      "0      MSP     1\n",
      "1      ATL     1\n",
      "2      PHF     1\n",
      "5      RIC     1\n",
      "6      OMA     1\n",
      "...    ...   ...\n",
      "16134  OME     1\n",
      "16135  OTZ     1\n",
      "16765  DRO     1\n",
      "17219  TTN     1\n",
      "17314  PSM     1\n",
      "\n",
      "[335 rows x 2 columns]\n"
     ]
    }
   ],
   "source": [
    "# Get a list of all airports\n",
    "airports = pd.concat([flights_db['ORIGIN'], flights_db['DEST']]).drop_duplicates()\n",
    "airports = pd.DataFrame(airports, columns=['A'])\n",
    "# Assign random cost to each airport\n",
    "airports['COST'] = [np.random.randint(1, 2) for _ in airports.index]\n",
    "airports.to_csv('airports.csv', index=False)\n",
    "print(airports)"
   ]
  },
  {
   "cell_type": "code",
   "execution_count": 22,
   "metadata": {},
   "outputs": [
    {
     "name": "stdout",
     "output_type": "stream",
     "text": [
      "{'Flight9E_MSP_MKE_1_0': 1}\n"
     ]
    }
   ],
   "source": [
    "flight_data = pd.read_csv('flights.csv')\n",
    "\n",
    "tuple_weights = {}\n",
    "\n",
    "for index, row in flight_data.iterrows():\n",
    "    tuple_weights['Flight'+'_'.join([str(row[v]) for v in flight_data.columns])] = row['COST']\n",
    "    break\n",
    "\n",
    "print(tuple_weights)"
   ]
  }
 ],
 "metadata": {
  "kernelspec": {
   "display_name": "env",
   "language": "python",
   "name": "python3"
  },
  "language_info": {
   "codemirror_mode": {
    "name": "ipython",
    "version": 3
   },
   "file_extension": ".py",
   "mimetype": "text/x-python",
   "name": "python",
   "nbconvert_exporter": "python",
   "pygments_lexer": "ipython3",
   "version": "3.12.7"
  }
 },
 "nbformat": 4,
 "nbformat_minor": 2
}
